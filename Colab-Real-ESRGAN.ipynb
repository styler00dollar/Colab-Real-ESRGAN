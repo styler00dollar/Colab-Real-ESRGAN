{
  "nbformat": 4,
  "nbformat_minor": 0,
  "metadata": {
    "colab": {
      "name": "Colab-Real-ESRGAN.ipynb",
      "private_outputs": true,
      "provenance": [],
      "collapsed_sections": []
    },
    "kernelspec": {
      "name": "python3",
      "display_name": "Python 3"
    },
    "language_info": {
      "name": "python"
    },
    "accelerator": "GPU"
  },
  "cells": [
    {
      "cell_type": "markdown",
      "metadata": {
        "id": "9RdoSaEhIBXA"
      },
      "source": [
        "# Colab-Real-ESRGAN\n",
        "\n",
        "Original repo: [xinntao/Real-ESRGAN](https://github.com/xinntao/Real-ESRGAN)\n",
        "\n",
        "Original Colab: [here](https://colab.research.google.com/drive/1k2Zod6kSHEvraybHl50Lys0LerhyTMCo?usp=sharing)\n",
        "\n",
        "My fork: [styler00dollar/Colab-Real-ESRGAN](https://github.com/styler00dollar/Colab-Real-ESRGAN)\n",
        "\n",
        "Minimalistic Colab."
      ]
    },
    {
      "cell_type": "code",
      "metadata": {
        "id": "V5Gn-kLliU9p"
      },
      "source": [
        "!nvidia-smi"
      ],
      "execution_count": null,
      "outputs": []
    },
    {
      "cell_type": "code",
      "metadata": {
        "id": "OJCQv3Zzgx61",
        "cellView": "form"
      },
      "source": [
        "#@title install\n",
        "%cd /content/\n",
        "!mkdir input\n",
        "!mkdir output\n",
        "!git clone https://github.com/xinntao/Real-ESRGAN\n",
        "%cd /content/Real-ESRGAN/experiments/pretrained_models\n",
        "!wget https://github.com/xinntao/Real-ESRGAN/releases/download/v0.2.2.4/RealESRGAN_x4plus_anime_6B.pth\n",
        "!wget https://github.com/xinntao/Real-ESRGAN/releases/download/v0.1.0/RealESRGAN_x4plus.pth \n",
        "!pip install basicsr facexlib gfpgan\n",
        "%cd /content/Real-ESRGAN\n",
        "!pip install -r requirements.txt\n",
        "!python setup.py develop"
      ],
      "execution_count": null,
      "outputs": []
    },
    {
      "cell_type": "markdown",
      "source": [
        "# Inference\n",
        "\n",
        "Choose between these two models"
      ],
      "metadata": {
        "id": "pnuZbLXrXW2B"
      }
    },
    {
      "cell_type": "code",
      "metadata": {
        "id": "AzKk6EJag3dD"
      },
      "source": [
        "%cd /content/Real-ESRGAN\n",
        "!python inference_realesrgan.py -n RealESRGAN_x4plus  --input /content/input --output /content/output"
      ],
      "execution_count": null,
      "outputs": []
    },
    {
      "cell_type": "code",
      "metadata": {
        "id": "6_EOYRPtcwdP"
      },
      "source": [
        "%cd /content/Real-ESRGAN\n",
        "!python inference_realesrgan.py -n RealESRGAN_x4plus_anime_6B --input /content/input --output /content/output"
      ],
      "execution_count": null,
      "outputs": []
    }
  ]
}
